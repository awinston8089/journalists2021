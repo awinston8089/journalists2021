{
 "cells": [
  {
   "cell_type": "code",
   "execution_count": 1,
   "metadata": {},
   "outputs": [],
   "source": [
    "import pandas as pd\n",
    "import numpy as np\n",
    "from sqlalchemy import create_engine\n",
    "import pymongo\n",
    "from matplotlib import pyplot as plt"
   ]
  },
  {
   "cell_type": "code",
   "execution_count": null,
   "metadata": {},
   "outputs": [],
   "source": [
    "#Importing 2015 CSV\n",
    "Happiness_2015_df = pd.read_csv(\"Resources/2015.csv\")\n",
    "Happiness_2015_df.head()"
   ]
  },
  {
   "cell_type": "code",
   "execution_count": null,
   "metadata": {},
   "outputs": [],
   "source": [
    "\n",
    "Happiness_2015_df.dtypes"
   ]
  },
  {
   "cell_type": "code",
   "execution_count": null,
   "metadata": {},
   "outputs": [],
   "source": [
    "Happiness_2015_df.columns"
   ]
  },
  {
   "cell_type": "code",
   "execution_count": null,
   "metadata": {},
   "outputs": [],
   "source": [
    "Happiness_2015_df.count()"
   ]
  },
  {
   "cell_type": "code",
   "execution_count": null,
   "metadata": {},
   "outputs": [],
   "source": [
    "#Reading the 2016 CSV File\n",
    "Happiness_2016_df = pd.read_csv(\"Resources/2016.csv\")\n",
    "Happiness_2016_df.head()\n"
   ]
  },
  {
   "cell_type": "code",
   "execution_count": null,
   "metadata": {},
   "outputs": [],
   "source": [
    "#Reading the 2016 CSV File\n",
    "Happiness_2016_df = pd.read_csv(\"Resources/2016.csv\")\n",
    "Happiness_2016_df.head()"
   ]
  },
  {
   "cell_type": "code",
   "execution_count": null,
   "metadata": {},
   "outputs": [],
   "source": [
    "Happiness_2016_df.count()"
   ]
  },
  {
   "cell_type": "code",
   "execution_count": null,
   "metadata": {},
   "outputs": [],
   "source": [
    "#Reading the 2017 CSV File\n",
    "Happiness_2017_df = pd.read_csv(\"Resources/2017.csv\")\n",
    "Happiness_2017_df.head()"
   ]
  },
  {
   "cell_type": "code",
   "execution_count": null,
   "metadata": {},
   "outputs": [],
   "source": [
    "Happiness_2017_df.count()"
   ]
  },
  {
   "cell_type": "code",
   "execution_count": null,
   "metadata": {},
   "outputs": [],
   "source": [
    "Happiness_2017_df.count()"
   ]
  },
  {
   "cell_type": "code",
   "execution_count": null,
   "metadata": {},
   "outputs": [],
   "source": [
    "#Reading the 2018 CSV File\n",
    "Happiness_2018_df = pd.read_csv(\"Resources/2018.csv\")\n",
    "Happiness_2018_df.head()"
   ]
  },
  {
   "cell_type": "code",
   "execution_count": null,
   "metadata": {},
   "outputs": [],
   "source": [
    "Happiness_2018_df.count()"
   ]
  },
  {
   "cell_type": "code",
   "execution_count": null,
   "metadata": {},
   "outputs": [],
   "source": [
    "Happiness_2018_df.columns"
   ]
  },
  {
   "cell_type": "code",
   "execution_count": null,
   "metadata": {},
   "outputs": [],
   "source": [
    "#Reading the 2018 CSV File\n",
    "Happiness_2019_df = pd.read_csv(\"Resources/2019.csv\")\n",
    "Happiness_2019_df.head()"
   ]
  },
  {
   "cell_type": "code",
   "execution_count": null,
   "metadata": {},
   "outputs": [],
   "source": [
    "Happiness_2019_df.count()"
   ]
  },
  {
   "cell_type": "code",
   "execution_count": null,
   "metadata": {},
   "outputs": [],
   "source": [
    "Happiness_2020_df = pd.read_csv(\"Resources/2020.csv\")\n",
    "Happiness_2020_df.head()"
   ]
  },
  {
   "cell_type": "code",
   "execution_count": null,
   "metadata": {},
   "outputs": [],
   "source": [
    "Happiness_2020_df.count()"
   ]
  },
  {
   "cell_type": "code",
   "execution_count": null,
   "metadata": {},
   "outputs": [],
   "source": []
  },
  {
   "cell_type": "markdown",
   "metadata": {},
   "source": [
    "## Reading and Cleaning the Journalist Death CSV (1992 - 2020)"
   ]
  },
  {
   "cell_type": "code",
   "execution_count": null,
   "metadata": {},
   "outputs": [],
   "source": [
    "# Reading the Journalist Death CSV\n",
    "\n",
    "journalist_death_df = pd.read_csv(\"Resources/journalistdeath.csv\")\n",
    "journalist_death_df.head()\n"
   ]
  },
  {
   "cell_type": "code",
   "execution_count": null,
   "metadata": {},
   "outputs": [],
   "source": [
    "journalist_death_df.columns"
   ]
  },
  {
   "cell_type": "code",
   "execution_count": null,
   "metadata": {},
   "outputs": [],
   "source": [
    "journal_death_dropone_df = journalist_death_df.drop(['primaryNationality','secondaryNationality','tertiaryNationality','photoUrl','photoCredit', 'lengthOfSentence', 'healthProblems'], axis=1)"
   ]
  },
  {
   "cell_type": "code",
   "execution_count": null,
   "metadata": {},
   "outputs": [],
   "source": [
    "journal_death_dropone_df.head()"
   ]
  },
  {
   "cell_type": "code",
   "execution_count": null,
   "metadata": {},
   "outputs": [],
   "source": [
    "journal_death_dropone_df.columns"
   ]
  },
  {
   "cell_type": "code",
   "execution_count": null,
   "metadata": {},
   "outputs": [],
   "source": [
    "journal_death_droptwo_df = journal_death_dropone_df.drop(['charges', 'motive', 'impCountry', 'entry', 'sentenceDate', 'sentence', 'locationImprisoned'], axis=1)\n",
    "journal_death_droptwo_df.head()"
   ]
  },
  {
   "cell_type": "code",
   "execution_count": null,
   "metadata": {},
   "outputs": [],
   "source": [
    "journal_death_droptwo_df.columns"
   ]
  },
  {
   "cell_type": "code",
   "execution_count": null,
   "metadata": {},
   "outputs": [],
   "source": [
    "journal_death_dropthree_df = journal_death_droptwo_df.drop(['region','state','locality','province','localOrForeign', 'accountabilityCrossfire', 'accountabilityAssignment', 'tortured', 'captive', 'threatened'], axis=1)\n",
    "journal_death_dropthree_df.head()"
   ]
  },
  {
   "cell_type": "code",
   "execution_count": null,
   "metadata": {},
   "outputs": [],
   "source": [
    "journal_death_dropfour_df = journal_death_dropthree_df.drop(['fullName', 'sortName','lastStatus','organizations', 'impunityMurder'], axis=1)\n",
    "journal_death_dropfour_df.head()"
   ]
  },
  {
   "cell_type": "code",
   "execution_count": null,
   "metadata": {},
   "outputs": [],
   "source": [
    "marks_list = journal_death_droptwo_df['gender'].tolist() \n",
    "  \n",
    "# show the list \n",
    "print(marks_list)"
   ]
  },
  {
   "cell_type": "code",
   "execution_count": null,
   "metadata": {},
   "outputs": [],
   "source": [
    "# look for missing values\n",
    "journal_death_dropfour_df.count()"
   ]
  },
  {
   "cell_type": "code",
   "execution_count": null,
   "metadata": {},
   "outputs": [],
   "source": [
    "# Create a query of DF for years greater than 2014 ..result should be years 2015 -2020\n",
    "journal_by_years = journal_death_dropfour_df.query('year > 2014')\n",
    "journal_by_years"
   ]
  },
  {
   "cell_type": "code",
   "execution_count": null,
   "metadata": {},
   "outputs": [],
   "source": [
    "marks_list = journal_by_years['year'].tolist() \n",
    "  \n",
    "# show the list \n",
    "print(marks_list)"
   ]
  },
  {
   "cell_type": "code",
   "execution_count": null,
   "metadata": {},
   "outputs": [],
   "source": [
    "journal_by_years.dtypes"
   ]
  },
  {
   "cell_type": "code",
   "execution_count": null,
   "metadata": {},
   "outputs": [],
   "source": [
    "sort_by_year = journal_by_years.sort_values('year')\n",
    "sort_by_year"
   ]
  },
  {
   "cell_type": "code",
   "execution_count": null,
   "metadata": {},
   "outputs": [],
   "source": [
    "sort_by_year.gender.value_counts()"
   ]
  },
  {
   "cell_type": "code",
   "execution_count": null,
   "metadata": {},
   "outputs": [],
   "source": []
  },
  {
   "cell_type": "code",
   "execution_count": null,
   "metadata": {},
   "outputs": [],
   "source": []
  },
  {
   "cell_type": "code",
   "execution_count": 5,
   "metadata": {},
   "outputs": [
    {
     "data": {
      "text/html": [
       "<div>\n",
       "<style scoped>\n",
       "    .dataframe tbody tr th:only-of-type {\n",
       "        vertical-align: middle;\n",
       "    }\n",
       "\n",
       "    .dataframe tbody tr th {\n",
       "        vertical-align: top;\n",
       "    }\n",
       "\n",
       "    .dataframe thead th {\n",
       "        text-align: right;\n",
       "    }\n",
       "</style>\n",
       "<table border=\"1\" class=\"dataframe\">\n",
       "  <thead>\n",
       "    <tr style=\"text-align: right;\">\n",
       "      <th></th>\n",
       "      <th>Year of Death</th>\n",
       "      <th>Name</th>\n",
       "      <th>Sex</th>\n",
       "      <th>Country Killed</th>\n",
       "      <th>Organization</th>\n",
       "      <th>Nationality</th>\n",
       "      <th>Medium</th>\n",
       "      <th>Job</th>\n",
       "      <th>Coverage</th>\n",
       "      <th>Freelance</th>\n",
       "      <th>Local Foreign</th>\n",
       "      <th>Source of Fire</th>\n",
       "      <th>Type of Death</th>\n",
       "      <th>Impunity  for Murder</th>\n",
       "      <th>Taken Captive</th>\n",
       "      <th>Threatened</th>\n",
       "      <th>Tortured</th>\n",
       "    </tr>\n",
       "  </thead>\n",
       "  <tbody>\n",
       "    <tr>\n",
       "      <th>0</th>\n",
       "      <td>1992</td>\n",
       "      <td>Mustafa Jeha</td>\n",
       "      <td>Male</td>\n",
       "      <td>Lebanon</td>\n",
       "      <td>Al-Amal</td>\n",
       "      <td>Lebanon</td>\n",
       "      <td>Print</td>\n",
       "      <td>Columnist</td>\n",
       "      <td>Politics</td>\n",
       "      <td>No</td>\n",
       "      <td>Local</td>\n",
       "      <td>Political Group</td>\n",
       "      <td>Murder</td>\n",
       "      <td>Yes</td>\n",
       "      <td>No</td>\n",
       "      <td>No</td>\n",
       "      <td>No</td>\n",
       "    </tr>\n",
       "    <tr>\n",
       "      <th>1</th>\n",
       "      <td>1992</td>\n",
       "      <td>Halit Gungen</td>\n",
       "      <td>Male</td>\n",
       "      <td>Turkey</td>\n",
       "      <td>2000'e Dogru</td>\n",
       "      <td>Turkey</td>\n",
       "      <td>Print</td>\n",
       "      <td>Editor</td>\n",
       "      <td>Corruption, Human Rights, Politics</td>\n",
       "      <td>No</td>\n",
       "      <td>Local</td>\n",
       "      <td>Government Officials</td>\n",
       "      <td>Murder</td>\n",
       "      <td>Yes</td>\n",
       "      <td>No</td>\n",
       "      <td>No</td>\n",
       "      <td>No</td>\n",
       "    </tr>\n",
       "    <tr>\n",
       "      <th>2</th>\n",
       "      <td>1992</td>\n",
       "      <td>Cengiz Altun</td>\n",
       "      <td>Male</td>\n",
       "      <td>Turkey</td>\n",
       "      <td>Yeni Ulke</td>\n",
       "      <td>Turkey</td>\n",
       "      <td>Print</td>\n",
       "      <td>Print Reporter</td>\n",
       "      <td>Corruption, Politics</td>\n",
       "      <td>No</td>\n",
       "      <td>Local</td>\n",
       "      <td>Paramilitary Group</td>\n",
       "      <td>Murder</td>\n",
       "      <td>Yes</td>\n",
       "      <td>No</td>\n",
       "      <td>Yes</td>\n",
       "      <td>No</td>\n",
       "    </tr>\n",
       "    <tr>\n",
       "      <th>3</th>\n",
       "      <td>1992</td>\n",
       "      <td>Manuel de Dios Unanue</td>\n",
       "      <td>Male</td>\n",
       "      <td>USA</td>\n",
       "      <td>El Diario/La Prensa</td>\n",
       "      <td>Cuba</td>\n",
       "      <td>Print</td>\n",
       "      <td>Editor</td>\n",
       "      <td>Crime</td>\n",
       "      <td>No</td>\n",
       "      <td>Local</td>\n",
       "      <td>Criminal Group</td>\n",
       "      <td>Murder</td>\n",
       "      <td>Partial</td>\n",
       "      <td>No</td>\n",
       "      <td>No</td>\n",
       "      <td>No</td>\n",
       "    </tr>\n",
       "    <tr>\n",
       "      <th>4</th>\n",
       "      <td>1992</td>\n",
       "      <td>Kjasif Smajlovic</td>\n",
       "      <td>Male</td>\n",
       "      <td>Bosnia</td>\n",
       "      <td>Oslobodjenje</td>\n",
       "      <td>Bosnia-Herzegovina</td>\n",
       "      <td>Print</td>\n",
       "      <td>Print Reporter</td>\n",
       "      <td>War</td>\n",
       "      <td>No</td>\n",
       "      <td>Local</td>\n",
       "      <td>Paramilitary Group</td>\n",
       "      <td>Murder</td>\n",
       "      <td>Yes</td>\n",
       "      <td>No</td>\n",
       "      <td>No</td>\n",
       "      <td>No</td>\n",
       "    </tr>\n",
       "  </tbody>\n",
       "</table>\n",
       "</div>"
      ],
      "text/plain": [
       "   Year of Death                   Name   Sex Country Killed  \\\n",
       "0           1992           Mustafa Jeha  Male        Lebanon   \n",
       "1           1992           Halit Gungen  Male         Turkey   \n",
       "2           1992           Cengiz Altun  Male         Turkey   \n",
       "3           1992  Manuel de Dios Unanue  Male            USA   \n",
       "4           1992       Kjasif Smajlovic  Male         Bosnia   \n",
       "\n",
       "          Organization         Nationality Medium             Job  \\\n",
       "0              Al-Amal             Lebanon  Print       Columnist   \n",
       "1         2000'e Dogru              Turkey  Print          Editor   \n",
       "2            Yeni Ulke              Turkey  Print  Print Reporter   \n",
       "3  El Diario/La Prensa                Cuba  Print          Editor   \n",
       "4         Oslobodjenje  Bosnia-Herzegovina  Print  Print Reporter   \n",
       "\n",
       "                             Coverage Freelance Local Foreign  \\\n",
       "0                            Politics        No         Local   \n",
       "1  Corruption, Human Rights, Politics        No         Local   \n",
       "2                Corruption, Politics        No         Local   \n",
       "3                               Crime        No         Local   \n",
       "4                                 War        No         Local   \n",
       "\n",
       "         Source of Fire Type of Death Impunity  for Murder Taken Captive  \\\n",
       "0       Political Group        Murder                  Yes            No   \n",
       "1  Government Officials        Murder                  Yes            No   \n",
       "2    Paramilitary Group        Murder                  Yes            No   \n",
       "3        Criminal Group        Murder              Partial            No   \n",
       "4    Paramilitary Group        Murder                  Yes            No   \n",
       "\n",
       "  Threatened Tortured  \n",
       "0         No       No  \n",
       "1         No       No  \n",
       "2        Yes       No  \n",
       "3         No       No  \n",
       "4         No       No  "
      ]
     },
     "execution_count": 5,
     "metadata": {},
     "output_type": "execute_result"
    }
   ],
   "source": [
    "#Importing 2015 CSV\n",
    "death_df = pd.read_csv(\"Resources/JournalistDeaths.csv\", encoding='latin-1')\n",
    "death_df.head()"
   ]
  },
  {
   "cell_type": "code",
   "execution_count": 7,
   "metadata": {},
   "outputs": [
    {
     "data": {
      "text/plain": [
       "Year of Death           744\n",
       "Name                    744\n",
       "Sex                     744\n",
       "Country Killed          744\n",
       "Organization            744\n",
       "Nationality             744\n",
       "Medium                  744\n",
       "Job                     744\n",
       "Coverage                744\n",
       "Freelance               744\n",
       "Local Foreign           744\n",
       "Source of Fire          744\n",
       "Type of Death           744\n",
       "Impunity  for Murder    744\n",
       "Taken Captive           744\n",
       "Threatened              744\n",
       "Tortured                744\n",
       "dtype: int64"
      ]
     },
     "execution_count": 7,
     "metadata": {},
     "output_type": "execute_result"
    }
   ],
   "source": [
    "death_df.count()"
   ]
  },
  {
   "cell_type": "code",
   "execution_count": 8,
   "metadata": {},
   "outputs": [
    {
     "data": {
      "text/plain": [
       "(744, 17)"
      ]
     },
     "execution_count": 8,
     "metadata": {},
     "output_type": "execute_result"
    }
   ],
   "source": [
    "death_df.shape"
   ]
  },
  {
   "cell_type": "code",
   "execution_count": null,
   "metadata": {},
   "outputs": [],
   "source": []
  }
 ],
 "metadata": {
  "kernelspec": {
   "display_name": "Python 3",
   "language": "python",
   "name": "python3"
  },
  "language_info": {
   "codemirror_mode": {
    "name": "ipython",
    "version": 3
   },
   "file_extension": ".py",
   "mimetype": "text/x-python",
   "name": "python",
   "nbconvert_exporter": "python",
   "pygments_lexer": "ipython3",
   "version": "3.8.3"
  }
 },
 "nbformat": 4,
 "nbformat_minor": 4
}
